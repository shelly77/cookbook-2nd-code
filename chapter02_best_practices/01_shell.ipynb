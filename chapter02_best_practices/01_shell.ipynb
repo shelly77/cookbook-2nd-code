{
 "cells": [
  {
   "cell_type": "markdown",
   "metadata": {},
   "source": [
    "# 2.1. Learning the basics of the Unix shell"
   ]
  },
  {
   "cell_type": "code",
   "execution_count": 1,
   "metadata": {},
   "outputs": [
    {
     "data": {
      "text/plain": [
       "'/Users/yihanc/repositories/personal/cookbook-2nd-code/chapter02_best_practices'"
      ]
     },
     "execution_count": 1,
     "metadata": {},
     "output_type": "execute_result"
    }
   ],
   "source": [
    "pwd"
   ]
  },
  {
   "cell_type": "code",
   "execution_count": 2,
   "metadata": {},
   "outputs": [
    {
     "name": "stdout",
     "output_type": "stream",
     "text": [
      "01_py3.ipynb           04_git_advanced.ipynb  07_high_quality.ipynb\r\n",
      "01_shell.ipynb         05_tips.ipynb          07_test.ipynb\r\n",
      "02_py3.ipynb           05_workflows.ipynb     08_debugging.ipynb\r\n",
      "02_workflows.ipynb     06_high_quality.ipynb  08_test.ipynb\r\n",
      "03_git.ipynb           06_tips.ipynb          09_debugging.ipynb\r\n"
     ]
    }
   ],
   "source": [
    "ls"
   ]
  },
  {
   "cell_type": "code",
   "execution_count": 3,
   "metadata": {},
   "outputs": [
    {
     "name": "stdout",
     "output_type": "stream",
     "text": [
      "total 200\r\n",
      "-rw-r--r--  1 yihanc  staff  12544 Dec 10 20:53 01_py3.ipynb\r\n",
      "-rw-r--r--  1 yihanc  staff   7390 Dec 11 10:39 01_shell.ipynb\r\n",
      "-rw-r--r--  1 yihanc  staff  10016 Dec  8 16:47 02_py3.ipynb\r\n",
      "-rw-r--r--  1 yihanc  staff    212 Dec  8 16:47 02_workflows.ipynb\r\n",
      "-rw-r--r--  1 yihanc  staff   5245 Dec  8 16:47 03_git.ipynb\r\n",
      "-rw-r--r--  1 yihanc  staff   6680 Dec  8 16:47 04_git_advanced.ipynb\r\n",
      "-rw-r--r--  1 yihanc  staff    228 Dec  8 16:47 05_tips.ipynb\r\n",
      "-rw-r--r--  1 yihanc  staff    217 Dec  8 16:47 05_workflows.ipynb\r\n",
      "-rw-r--r--  1 yihanc  staff    906 Dec  8 16:47 06_high_quality.ipynb\r\n",
      "-rw-r--r--  1 yihanc  staff    233 Dec  8 16:47 06_tips.ipynb\r\n",
      "-rw-r--r--  1 yihanc  staff    901 Dec  8 16:47 07_high_quality.ipynb\r\n",
      "-rw-r--r--  1 yihanc  staff   4697 Dec  8 16:47 07_test.ipynb\r\n",
      "-rw-r--r--  1 yihanc  staff    666 Dec  8 16:47 08_debugging.ipynb\r\n",
      "-rw-r--r--  1 yihanc  staff   4692 Dec  8 16:47 08_test.ipynb\r\n",
      "-rw-r--r--  1 yihanc  staff    666 Dec  8 16:47 09_debugging.ipynb\r\n"
     ]
    }
   ],
   "source": [
    "ls -l"
   ]
  },
  {
   "cell_type": "code",
   "execution_count": 4,
   "metadata": {},
   "outputs": [
    {
     "name": "stdout",
     "output_type": "stream",
     "text": [
      "[Errno 2] No such file or directory: 'images'\n",
      "/Users/yihanc/repositories/personal/cookbook-2nd-code/chapter02_best_practices\n"
     ]
    }
   ],
   "source": [
    "cd images"
   ]
  },
  {
   "cell_type": "code",
   "execution_count": 13,
   "metadata": {},
   "outputs": [
    {
     "data": {
      "text/plain": [
       "'/Users/yihanc/repositories/personal/cookbook-2nd-code'"
      ]
     },
     "execution_count": 13,
     "metadata": {},
     "output_type": "execute_result"
    }
   ],
   "source": [
    "pwd"
   ]
  },
  {
   "cell_type": "code",
   "execution_count": 6,
   "metadata": {},
   "outputs": [
    {
     "name": "stdout",
     "output_type": "stream",
     "text": [
      "01_py3.ipynb           04_git_advanced.ipynb  07_high_quality.ipynb\r\n",
      "01_shell.ipynb         05_tips.ipynb          07_test.ipynb\r\n",
      "02_py3.ipynb           05_workflows.ipynb     08_debugging.ipynb\r\n",
      "02_workflows.ipynb     06_high_quality.ipynb  08_test.ipynb\r\n",
      "03_git.ipynb           06_tips.ipynb          09_debugging.ipynb\r\n"
     ]
    }
   ],
   "source": [
    "ls"
   ]
  },
  {
   "cell_type": "code",
   "execution_count": 7,
   "metadata": {},
   "outputs": [
    {
     "name": "stdout",
     "output_type": "stream",
     "text": [
      "/Users/yihanc/repositories/personal/cookbook-2nd-code\n"
     ]
    }
   ],
   "source": [
    "cd .."
   ]
  },
  {
   "cell_type": "code",
   "execution_count": 9,
   "metadata": {},
   "outputs": [
    {
     "data": {
      "text/plain": [
       "'/Users/yihanc/repositories/personal/cookbook-2nd-code'"
      ]
     },
     "execution_count": 9,
     "metadata": {},
     "output_type": "execute_result"
    }
   ],
   "source": [
    "pwd"
   ]
  },
  {
   "cell_type": "code",
   "execution_count": 11,
   "metadata": {},
   "outputs": [
    {
     "name": "stdout",
     "output_type": "stream",
     "text": [
      "total 0\r\n",
      "drwxr-xr-x   5 yihanc  staff   160 Dec 13  2019 \u001b[34m.\u001b[m\u001b[m/\r\n",
      "drwxr-xr-x+ 84 yihanc  staff  2688 Nov  6 13:49 \u001b[34m..\u001b[m\u001b[m/\r\n",
      "drwxr-xr-x   2 yihanc  staff    64 Dec 13  2019 \u001b[34mextensions\u001b[m\u001b[m/\r\n",
      "drwxr-xr-x   2 yihanc  staff    64 Dec 13  2019 \u001b[34mnbextensions\u001b[m\u001b[m/\r\n",
      "drwxr-xr-x   8 yihanc  staff   256 Dec 11 10:49 \u001b[34mprofile_default\u001b[m\u001b[m/\r\n"
     ]
    }
   ],
   "source": [
    "ls -la ~/.ipython"
   ]
  },
  {
   "cell_type": "code",
   "execution_count": 52,
   "metadata": {},
   "outputs": [],
   "source": [
    "mkdir md_files"
   ]
  },
  {
   "cell_type": "code",
   "execution_count": 53,
   "metadata": {},
   "outputs": [],
   "source": [
    "mv md_files markdown_files"
   ]
  },
  {
   "cell_type": "code",
   "execution_count": 54,
   "metadata": {},
   "outputs": [
    {
     "name": "stdout",
     "output_type": "stream",
     "text": [
      "LICENSE                   \u001b[34mchapter06_viz\u001b[m\u001b[m/            \u001b[34mchapter13_stochastic\u001b[m\u001b[m/\r\n",
      "README.md                 \u001b[34mchapter07_stats\u001b[m\u001b[m/          \u001b[34mchapter14_graphgeo\u001b[m\u001b[m/\r\n",
      "\u001b[34mchapter01_basic\u001b[m\u001b[m/          \u001b[34mchapter08_ml\u001b[m\u001b[m/             \u001b[34mchapter15_symbolic\u001b[m\u001b[m/\r\n",
      "\u001b[34mchapter02_best_practices\u001b[m\u001b[m/ \u001b[34mchapter09_numoptim\u001b[m\u001b[m/       environment.yml\r\n",
      "\u001b[34mchapter03_notebook\u001b[m\u001b[m/       \u001b[34mchapter10_signal\u001b[m\u001b[m/         \u001b[34mmarkdown_files\u001b[m\u001b[m/\r\n",
      "\u001b[34mchapter04_optimization\u001b[m\u001b[m/   \u001b[34mchapter11_image\u001b[m\u001b[m/\r\n",
      "\u001b[34mchapter05_hpc\u001b[m\u001b[m/            \u001b[34mchapter12_deterministic\u001b[m\u001b[m/\r\n"
     ]
    }
   ],
   "source": [
    "ls"
   ]
  },
  {
   "cell_type": "code",
   "execution_count": 50,
   "metadata": {},
   "outputs": [],
   "source": [
    "rmdir markdown_files"
   ]
  }
 ],
 "metadata": {
  "kernelspec": {
   "display_name": "Python 3",
   "language": "python",
   "name": "python3"
  },
  "language_info": {
   "codemirror_mode": {
    "name": "ipython",
    "version": 3
   },
   "file_extension": ".py",
   "mimetype": "text/x-python",
   "name": "python",
   "nbconvert_exporter": "python",
   "pygments_lexer": "ipython3",
   "version": "3.7.4"
  }
 },
 "nbformat": 4,
 "nbformat_minor": 2
}
