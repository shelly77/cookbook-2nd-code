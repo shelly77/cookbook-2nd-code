{
 "cells": [
  {
   "cell_type": "markdown",
   "metadata": {},
   "source": [
    "# 7.4. Estimating the correlation between two variables with a contingency table and a chi-squared test"
   ]
  },
  {
   "cell_type": "code",
   "execution_count": 1,
   "metadata": {},
   "outputs": [],
   "source": [
    "import numpy as np\n",
    "import pandas as pd\n",
    "import scipy.stats as st\n",
    "import matplotlib.pyplot as plt\n",
    "%matplotlib inline"
   ]
  },
  {
   "cell_type": "code",
   "execution_count": 2,
   "metadata": {},
   "outputs": [],
   "source": [
    "player = 'Roger Federer'\n",
    "df = pd.read_csv('https://github.com/ipython-books/'\n",
    "                 'cookbook-2nd-data/blob/master/'\n",
    "                 'federer.csv?raw=true',\n",
    "                 parse_dates=['start date'],\n",
    "                 dayfirst=True)"
   ]
  },
  {
   "cell_type": "code",
   "execution_count": 3,
   "metadata": {
    "podoc": {
     "output_text": "Some tournaments"
    }
   },
   "outputs": [
    {
     "name": "stdout",
     "output_type": "stream",
     "text": [
      "Number of columns: 70\n"
     ]
    },
    {
     "data": {
      "text/html": [
       "<div>\n",
       "<style scoped>\n",
       "    .dataframe tbody tr th:only-of-type {\n",
       "        vertical-align: middle;\n",
       "    }\n",
       "\n",
       "    .dataframe tbody tr th {\n",
       "        vertical-align: top;\n",
       "    }\n",
       "\n",
       "    .dataframe thead th {\n",
       "        text-align: right;\n",
       "    }\n",
       "</style>\n",
       "<table border=\"1\" class=\"dataframe\">\n",
       "  <thead>\n",
       "    <tr style=\"text-align: right;\">\n",
       "      <th></th>\n",
       "      <th>year</th>\n",
       "      <th>tournament</th>\n",
       "      <th>start date</th>\n",
       "      <th>type</th>\n",
       "    </tr>\n",
       "  </thead>\n",
       "  <tbody>\n",
       "    <tr>\n",
       "      <td>1174</td>\n",
       "      <td>2012</td>\n",
       "      <td>Australian Open, Australia</td>\n",
       "      <td>2012-01-16</td>\n",
       "      <td>GS</td>\n",
       "    </tr>\n",
       "    <tr>\n",
       "      <td>1175</td>\n",
       "      <td>2012</td>\n",
       "      <td>Doha, Qatar</td>\n",
       "      <td>2012-01-02</td>\n",
       "      <td>250</td>\n",
       "    </tr>\n",
       "    <tr>\n",
       "      <td>1176</td>\n",
       "      <td>2012</td>\n",
       "      <td>Doha, Qatar</td>\n",
       "      <td>2012-01-02</td>\n",
       "      <td>250</td>\n",
       "    </tr>\n",
       "    <tr>\n",
       "      <td>1177</td>\n",
       "      <td>2012</td>\n",
       "      <td>Doha, Qatar</td>\n",
       "      <td>2012-01-02</td>\n",
       "      <td>250</td>\n",
       "    </tr>\n",
       "    <tr>\n",
       "      <td>1178</td>\n",
       "      <td>2012</td>\n",
       "      <td>Doha, Qatar</td>\n",
       "      <td>2012-01-02</td>\n",
       "      <td>250</td>\n",
       "    </tr>\n",
       "  </tbody>\n",
       "</table>\n",
       "</div>"
      ],
      "text/plain": [
       "      year                  tournament start date type\n",
       "1174  2012  Australian Open, Australia 2012-01-16   GS\n",
       "1175  2012                 Doha, Qatar 2012-01-02  250\n",
       "1176  2012                 Doha, Qatar 2012-01-02  250\n",
       "1177  2012                 Doha, Qatar 2012-01-02  250\n",
       "1178  2012                 Doha, Qatar 2012-01-02  250"
      ]
     },
     "execution_count": 3,
     "metadata": {},
     "output_type": "execute_result"
    }
   ],
   "source": [
    "print(f\"Number of columns: {len(df.columns)}\")\n",
    "df[df.columns[:4]].tail()"
   ]
  },
  {
   "cell_type": "code",
   "execution_count": 4,
   "metadata": {},
   "outputs": [],
   "source": [
    "npoints = df['player1 total points total']\n",
    "points = df['player1 total points won'] / npoints\n",
    "aces = df['player1 aces'] / npoints"
   ]
  },
  {
   "cell_type": "code",
   "execution_count": 5,
   "metadata": {
    "podoc": {
     "output_text": "Aces and won points"
    }
   },
   "outputs": [
    {
     "data": {
      "text/plain": [
       "(0.0, 0.1629310344827586)"
      ]
     },
     "execution_count": 5,
     "metadata": {},
     "output_type": "execute_result"
    },
    {
     "data": {
      "image/png": "[encoded data removed]",
      "text/plain": [
       "<Figure size 432x288 with 1 Axes>"
      ]
     },
     "metadata": {
      "needs_background": "light"
     },
     "output_type": "display_data"
    }
   ],
   "source": [
    "fig, ax = plt.subplots(1, 1)\n",
    "ax.plot(points, aces, '.')\n",
    "ax.set_xlabel('% of points won')\n",
    "ax.set_ylabel('% of aces')\n",
    "ax.set_xlim(0., 1.)\n",
    "ax.set_ylim(0.)"
   ]
  },
  {
   "cell_type": "code",
   "execution_count": 6,
   "metadata": {
    "podoc": {
     "output_text": "Aces and won points"
    }
   },
   "outputs": [
    {
     "data": {
      "text/html": [
       "<div>\n",
       "<style scoped>\n",
       "    .dataframe tbody tr th:only-of-type {\n",
       "        vertical-align: middle;\n",
       "    }\n",
       "\n",
       "    .dataframe tbody tr th {\n",
       "        vertical-align: top;\n",
       "    }\n",
       "\n",
       "    .dataframe thead th {\n",
       "        text-align: right;\n",
       "    }\n",
       "</style>\n",
       "<table border=\"1\" class=\"dataframe\">\n",
       "  <thead>\n",
       "    <tr style=\"text-align: right;\">\n",
       "      <th></th>\n",
       "      <th>points</th>\n",
       "      <th>aces</th>\n",
       "    </tr>\n",
       "  </thead>\n",
       "  <tbody>\n",
       "    <tr>\n",
       "      <td>1173</td>\n",
       "      <td>0.585366</td>\n",
       "      <td>0.024390</td>\n",
       "    </tr>\n",
       "    <tr>\n",
       "      <td>1174</td>\n",
       "      <td>0.471014</td>\n",
       "      <td>0.039855</td>\n",
       "    </tr>\n",
       "    <tr>\n",
       "      <td>1175</td>\n",
       "      <td>0.639535</td>\n",
       "      <td>0.046512</td>\n",
       "    </tr>\n",
       "    <tr>\n",
       "      <td>1176</td>\n",
       "      <td>0.606061</td>\n",
       "      <td>0.020202</td>\n",
       "    </tr>\n",
       "    <tr>\n",
       "      <td>1177</td>\n",
       "      <td>0.531792</td>\n",
       "      <td>0.069364</td>\n",
       "    </tr>\n",
       "  </tbody>\n",
       "</table>\n",
       "</div>"
      ],
      "text/plain": [
       "        points      aces\n",
       "1173  0.585366  0.024390\n",
       "1174  0.471014  0.039855\n",
       "1175  0.639535  0.046512\n",
       "1176  0.606061  0.020202\n",
       "1177  0.531792  0.069364"
      ]
     },
     "execution_count": 6,
     "metadata": {},
     "output_type": "execute_result"
    }
   ],
   "source": [
    "df_bis = pd.DataFrame({'points': points,\n",
    "                       'aces': aces}).dropna()\n",
    "df_bis.tail()"
   ]
  },
  {
   "cell_type": "code",
   "execution_count": 7,
   "metadata": {
    "podoc": {
     "output_text": "Pearson correlation coefficient"
    }
   },
   "outputs": [
    {
     "data": {
      "text/html": [
       "<div>\n",
       "<style scoped>\n",
       "    .dataframe tbody tr th:only-of-type {\n",
       "        vertical-align: middle;\n",
       "    }\n",
       "\n",
       "    .dataframe tbody tr th {\n",
       "        vertical-align: top;\n",
       "    }\n",
       "\n",
       "    .dataframe thead th {\n",
       "        text-align: right;\n",
       "    }\n",
       "</style>\n",
       "<table border=\"1\" class=\"dataframe\">\n",
       "  <thead>\n",
       "    <tr style=\"text-align: right;\">\n",
       "      <th></th>\n",
       "      <th>points</th>\n",
       "      <th>aces</th>\n",
       "    </tr>\n",
       "  </thead>\n",
       "  <tbody>\n",
       "    <tr>\n",
       "      <td>points</td>\n",
       "      <td>1.000000</td>\n",
       "      <td>0.255457</td>\n",
       "    </tr>\n",
       "    <tr>\n",
       "      <td>aces</td>\n",
       "      <td>0.255457</td>\n",
       "      <td>1.000000</td>\n",
       "    </tr>\n",
       "  </tbody>\n",
       "</table>\n",
       "</div>"
      ],
      "text/plain": [
       "          points      aces\n",
       "points  1.000000  0.255457\n",
       "aces    0.255457  1.000000"
      ]
     },
     "execution_count": 7,
     "metadata": {},
     "output_type": "execute_result"
    }
   ],
   "source": [
    "df_bis.corr()"
   ]
  },
  {
   "cell_type": "code",
   "execution_count": 8,
   "metadata": {},
   "outputs": [],
   "source": [
    "df_bis['result'] = (df_bis['points'] >\n",
    "                    df_bis['points'].median())\n",
    "df_bis['manyaces'] = (df_bis['aces'] >\n",
    "                      df_bis['aces'].median())"
   ]
  },
  {
   "cell_type": "code",
   "execution_count": 10,
   "metadata": {},
   "outputs": [
    {
     "data": {
      "text/html": [
       "<div>\n",
       "<style scoped>\n",
       "    .dataframe tbody tr th:only-of-type {\n",
       "        vertical-align: middle;\n",
       "    }\n",
       "\n",
       "    .dataframe tbody tr th {\n",
       "        vertical-align: top;\n",
       "    }\n",
       "\n",
       "    .dataframe thead th {\n",
       "        text-align: right;\n",
       "    }\n",
       "</style>\n",
       "<table border=\"1\" class=\"dataframe\">\n",
       "  <thead>\n",
       "    <tr style=\"text-align: right;\">\n",
       "      <th></th>\n",
       "      <th>points</th>\n",
       "      <th>aces</th>\n",
       "      <th>result</th>\n",
       "      <th>manyaces</th>\n",
       "    </tr>\n",
       "  </thead>\n",
       "  <tbody>\n",
       "    <tr>\n",
       "      <td>1173</td>\n",
       "      <td>0.585366</td>\n",
       "      <td>0.024390</td>\n",
       "      <td>True</td>\n",
       "      <td>False</td>\n",
       "    </tr>\n",
       "    <tr>\n",
       "      <td>1174</td>\n",
       "      <td>0.471014</td>\n",
       "      <td>0.039855</td>\n",
       "      <td>False</td>\n",
       "      <td>False</td>\n",
       "    </tr>\n",
       "    <tr>\n",
       "      <td>1175</td>\n",
       "      <td>0.639535</td>\n",
       "      <td>0.046512</td>\n",
       "      <td>True</td>\n",
       "      <td>True</td>\n",
       "    </tr>\n",
       "    <tr>\n",
       "      <td>1176</td>\n",
       "      <td>0.606061</td>\n",
       "      <td>0.020202</td>\n",
       "      <td>True</td>\n",
       "      <td>False</td>\n",
       "    </tr>\n",
       "    <tr>\n",
       "      <td>1177</td>\n",
       "      <td>0.531792</td>\n",
       "      <td>0.069364</td>\n",
       "      <td>False</td>\n",
       "      <td>True</td>\n",
       "    </tr>\n",
       "  </tbody>\n",
       "</table>\n",
       "</div>"
      ],
      "text/plain": [
       "        points      aces  result  manyaces\n",
       "1173  0.585366  0.024390    True     False\n",
       "1174  0.471014  0.039855   False     False\n",
       "1175  0.639535  0.046512    True      True\n",
       "1176  0.606061  0.020202    True     False\n",
       "1177  0.531792  0.069364   False      True"
      ]
     },
     "execution_count": 10,
     "metadata": {},
     "output_type": "execute_result"
    }
   ],
   "source": [
    "df_bis.tail()"
   ]
  },
  {
   "cell_type": "code",
   "execution_count": 11,
   "metadata": {
    "podoc": {
     "output_text": "Contingency table"
    }
   },
   "outputs": [
    {
     "data": {
      "text/html": [
       "<div>\n",
       "<style scoped>\n",
       "    .dataframe tbody tr th:only-of-type {\n",
       "        vertical-align: middle;\n",
       "    }\n",
       "\n",
       "    .dataframe tbody tr th {\n",
       "        vertical-align: top;\n",
       "    }\n",
       "\n",
       "    .dataframe thead th {\n",
       "        text-align: right;\n",
       "    }\n",
       "</style>\n",
       "<table border=\"1\" class=\"dataframe\">\n",
       "  <thead>\n",
       "    <tr style=\"text-align: right;\">\n",
       "      <th>manyaces</th>\n",
       "      <th>False</th>\n",
       "      <th>True</th>\n",
       "    </tr>\n",
       "    <tr>\n",
       "      <th>result</th>\n",
       "      <th></th>\n",
       "      <th></th>\n",
       "    </tr>\n",
       "  </thead>\n",
       "  <tbody>\n",
       "    <tr>\n",
       "      <td>False</td>\n",
       "      <td>300</td>\n",
       "      <td>214</td>\n",
       "    </tr>\n",
       "    <tr>\n",
       "      <td>True</td>\n",
       "      <td>214</td>\n",
       "      <td>299</td>\n",
       "    </tr>\n",
       "  </tbody>\n",
       "</table>\n",
       "</div>"
      ],
      "text/plain": [
       "manyaces  False  True \n",
       "result                \n",
       "False       300    214\n",
       "True        214    299"
      ]
     },
     "execution_count": 11,
     "metadata": {},
     "output_type": "execute_result"
    }
   ],
   "source": [
    "pd.crosstab(df_bis['result'], df_bis['manyaces'])"
   ]
  },
  {
   "cell_type": "code",
   "execution_count": 12,
   "metadata": {},
   "outputs": [
    {
     "data": {
      "text/plain": [
       "(27.809858855369555,\n",
       " 1.338423379963363e-07,\n",
       " 1,\n",
       " array([[257.25024343, 256.74975657],\n",
       "        [256.74975657, 256.25024343]]))"
      ]
     },
     "execution_count": 12,
     "metadata": {},
     "output_type": "execute_result"
    }
   ],
   "source": [
    "st.chi2_contingency(_)"
   ]
  },
  {
   "cell_type": "code",
   "execution_count": 13,
   "metadata": {},
   "outputs": [
    {
     "data": {
      "text/plain": [
       "\u001b[0;31mSignature:\u001b[0m \u001b[0mst\u001b[0m\u001b[0;34m.\u001b[0m\u001b[0mchi2_contingency\u001b[0m\u001b[0;34m(\u001b[0m\u001b[0mobserved\u001b[0m\u001b[0;34m,\u001b[0m \u001b[0mcorrection\u001b[0m\u001b[0;34m=\u001b[0m\u001b[0;32mTrue\u001b[0m\u001b[0;34m,\u001b[0m \u001b[0mlambda_\u001b[0m\u001b[0;34m=\u001b[0m\u001b[0;32mNone\u001b[0m\u001b[0;34m)\u001b[0m\u001b[0;34m\u001b[0m\u001b[0;34m\u001b[0m\u001b[0m\n",
       "\u001b[0;31mDocstring:\u001b[0m\n",
       "Chi-square test of independence of variables in a contingency table.\n",
       "\n",
       "This function computes the chi-square statistic and p-value for the\n",
       "hypothesis test of independence of the observed frequencies in the\n",
       "contingency table [1]_ `observed`.  The expected frequencies are computed\n",
       "based on the marginal sums under the assumption of independence; see\n",
       "`scipy.stats.contingency.expected_freq`.  The number of degrees of\n",
       "freedom is (expressed using numpy functions and attributes)::\n",
       "\n",
       "    dof = observed.size - sum(observed.shape) + observed.ndim - 1\n",
       "\n",
       "\n",
       "Parameters\n",
       "----------\n",
       "observed : array_like\n",
       "    The contingency table. The table contains the observed frequencies\n",
       "    (i.e. number of occurrences) in each category.  In the two-dimensional\n",
       "    case, the table is often described as an \"R x C table\".\n",
       "correction : bool, optional\n",
       "    If True, *and* the degrees of freedom is 1, apply Yates' correction\n",
       "    for continuity.  The effect of the correction is to adjust each\n",
       "    observed value by 0.5 towards the corresponding expected value.\n",
       "lambda_ : float or str, optional.\n",
       "    By default, the statistic computed in this test is Pearson's\n",
       "    chi-squared statistic [2]_.  `lambda_` allows a statistic from the\n",
       "    Cressie-Read power divergence family [3]_ to be used instead.  See\n",
       "    `power_divergence` for details.\n",
       "\n",
       "Returns\n",
       "-------\n",
       "chi2 : float\n",
       "    The test statistic.\n",
       "p : float\n",
       "    The p-value of the test\n",
       "dof : int\n",
       "    Degrees of freedom\n",
       "expected : ndarray, same shape as `observed`\n",
       "    The expected frequencies, based on the marginal sums of the table.\n",
       "\n",
       "See Also\n",
       "--------\n",
       "contingency.expected_freq\n",
       "fisher_exact\n",
       "chisquare\n",
       "power_divergence\n",
       "\n",
       "Notes\n",
       "-----\n",
       "An often quoted guideline for the validity of this calculation is that\n",
       "the test should be used only if the observed and expected frequencies\n",
       "in each cell are at least 5.\n",
       "\n",
       "This is a test for the independence of different categories of a\n",
       "population. The test is only meaningful when the dimension of\n",
       "`observed` is two or more.  Applying the test to a one-dimensional\n",
       "table will always result in `expected` equal to `observed` and a\n",
       "chi-square statistic equal to 0.\n",
       "\n",
       "This function does not handle masked arrays, because the calculation\n",
       "does not make sense with missing values.\n",
       "\n",
       "Like stats.chisquare, this function computes a chi-square statistic;\n",
       "the convenience this function provides is to figure out the expected\n",
       "frequencies and degrees of freedom from the given contingency table.\n",
       "If these were already known, and if the Yates' correction was not\n",
       "required, one could use stats.chisquare.  That is, if one calls::\n",
       "\n",
       "    chi2, p, dof, ex = chi2_contingency(obs, correction=False)\n",
       "\n",
       "then the following is true::\n",
       "\n",
       "    (chi2, p) == stats.chisquare(obs.ravel(), f_exp=ex.ravel(),\n",
       "                                 ddof=obs.size - 1 - dof)\n",
       "\n",
       "The `lambda_` argument was added in version 0.13.0 of scipy.\n",
       "\n",
       "References\n",
       "----------\n",
       ".. [1] \"Contingency table\",\n",
       "       https://en.wikipedia.org/wiki/Contingency_table\n",
       ".. [2] \"Pearson's chi-squared test\",\n",
       "       https://en.wikipedia.org/wiki/Pearson%27s_chi-squared_test\n",
       ".. [3] Cressie, N. and Read, T. R. C., \"Multinomial Goodness-of-Fit\n",
       "       Tests\", J. Royal Stat. Soc. Series B, Vol. 46, No. 3 (1984),\n",
       "       pp. 440-464.\n",
       "\n",
       "Examples\n",
       "--------\n",
       "A two-way example (2 x 3):\n",
       "\n",
       ">>> from scipy.stats import chi2_contingency\n",
       ">>> obs = np.array([[10, 10, 20], [20, 20, 20]])\n",
       ">>> chi2_contingency(obs)\n",
       "(2.7777777777777777,\n",
       " 0.24935220877729619,\n",
       " 2,\n",
       " array([[ 12.,  12.,  16.],\n",
       "        [ 18.,  18.,  24.]]))\n",
       "\n",
       "Perform the test using the log-likelihood ratio (i.e. the \"G-test\")\n",
       "instead of Pearson's chi-squared statistic.\n",
       "\n",
       ">>> g, p, dof, expctd = chi2_contingency(obs, lambda_=\"log-likelihood\")\n",
       ">>> g, p\n",
       "(2.7688587616781319, 0.25046668010954165)\n",
       "\n",
       "A four-way example (2 x 2 x 2 x 2):\n",
       "\n",
       ">>> obs = np.array(\n",
       "...     [[[[12, 17],\n",
       "...        [11, 16]],\n",
       "...       [[11, 12],\n",
       "...        [15, 16]]],\n",
       "...      [[[23, 15],\n",
       "...        [30, 22]],\n",
       "...       [[14, 17],\n",
       "...        [15, 16]]]])\n",
       ">>> chi2_contingency(obs)\n",
       "(8.7584514426741897,\n",
       " 0.64417725029295503,\n",
       " 11,\n",
       " array([[[[ 14.15462386,  14.15462386],\n",
       "          [ 16.49423111,  16.49423111]],\n",
       "         [[ 11.2461395 ,  11.2461395 ],\n",
       "          [ 13.10500554,  13.10500554]]],\n",
       "        [[[ 19.5591166 ,  19.5591166 ],\n",
       "          [ 22.79202844,  22.79202844]],\n",
       "         [[ 15.54012004,  15.54012004],\n",
       "          [ 18.10873492,  18.10873492]]]]))\n",
       "\u001b[0;31mFile:\u001b[0m      ~/anaconda3/lib/python3.7/site-packages/scipy/stats/contingency.py\n",
       "\u001b[0;31mType:\u001b[0m      function\n"
      ]
     },
     "metadata": {},
     "output_type": "display_data"
    }
   ],
   "source": [
    "?st.chi2_contingency"
   ]
  },
  {
   "cell_type": "code",
   "execution_count": null,
   "metadata": {},
   "outputs": [],
   "source": []
  }
 ],
 "metadata": {
  "kernelspec": {
   "display_name": "Python 3",
   "language": "python",
   "name": "python3"
  },
  "language_info": {
   "codemirror_mode": {
    "name": "ipython",
    "version": 3
   },
   "file_extension": ".py",
   "mimetype": "text/x-python",
   "name": "python",
   "nbconvert_exporter": "python",
   "pygments_lexer": "ipython3",
   "version": "3.7.4"
  }
 },
 "nbformat": 4,
 "nbformat_minor": 4
}
